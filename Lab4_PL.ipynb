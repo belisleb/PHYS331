{
 "cells": [
  {
   "cell_type": "markdown",
   "source": [
    "# Lab 4: Photoluminescence \n",
    "In this lab you will be introduced to optoelectronic characterization technique of photoluminescence (PL). PL gives us insights both into the fundamental band strucure of our materials as well as informs how they'll be have in devices.\n",
    "* Set up and execute a PL experiment.\n",
    "* Analyze PL data to determine electronic bandgap.  \n",
    "* Communicate how PL relates to device performance."
   ],
   "metadata": {}
  },
  {
   "cell_type": "markdown",
   "source": [
    "## 1    Get Ready\n",
    "### 1.1 Photoluminescence Background\n"
   ],
   "metadata": {}
  },
  {
   "cell_type": "markdown",
   "source": [
    "### 1.2 Equipment\n",
    "For this lab we will be using a 543 nm 5mW HeNe laser as an excitation source and an Andor spectrograph and CCD as the detector. \n",
    "\n",
    "The HeNe laser is a class 3a laser so you should follow all laser safety precautions when working with the experimental setup. These safety precautions include (but are not limited to):\n",
    "* Wearing appropraite laser safety glasses\n",
    "* Removing any jewelery or watches that might cause reflections\n",
    "* Ensuring you know the location of the beam at all times.\n",
    "\n",
    "The Andor spectrograph and CCD are powerful and delicate pieces of equipment. \n",
    "# TODO picture of equipment\n",
    "The spectrograph uses gratings to spatially seperate our varying wavelengths of light and directs those onto a CCD. The CCD than reads out the counts it receives at a given location allowing the collection of wavelength dependent data. By changing the grating and the angle of the grating we can collect spectra with varying resolution and across varying wavelength ranges.\n",
    "\n",
    "When working with the CCD always keep the counts on the detector below 10,000. Above this value the detector no longer behaves linearly (increased photons doesn't proportionally increase counts) and you risk oversaturating and damaging the detector. "
   ],
   "metadata": {}
  },
  {
   "cell_type": "markdown",
   "source": [
    "### 1.3 Experimental Setup\n",
    "A goal of PL experiment is to look at your emitted signal and not your laser. To do this requires an optical component layout that can get your excitation souce (laser) onto your sample and then direct the PL from your sample focused into the spectrometer. \n",
    "\n",
    "Below is an image of the PL experiment. Identify the kind and purpose of each of the components, draw out the beam path, the PL path, and comment on how this layour achieves the experimental goal. \n",
    "\n",
    "Save your sketched and explanation to your notesheet <font color='red'>(answer 1)"
   ],
   "metadata": {}
  },
  {
   "cell_type": "markdown",
   "source": [
    "### 1.4 Software Setup\n",
    "The Andor equipment is controlled by the Solis software. The main controls for the software are as follows:\n",
    "\n",
    "#TO DO Solis Picture\n",
    "\n",
    "The features you will use most commonly are wavelength and exposure time. Wavelength lets you chose the center wavelength of a given spectra and exposure time sets how long you will capture data for. To ensure you do not over saturate the experiment you should start with very brief (0.001s) exposure times and then increase as necessary. "
   ],
   "metadata": {}
  },
  {
   "cell_type": "markdown",
   "source": [
    "## 2    Exercises\n",
    "With that introduction let's start taking and analyzing some PL data.   "
   ],
   "metadata": {}
  },
  {
   "cell_type": "markdown",
   "source": [
    "### 2.0 Practice Alignment"
   ],
   "metadata": {}
  },
  {
   "cell_type": "markdown",
   "source": [
    "### 2.1 Align the PL Experiment"
   ],
   "metadata": {}
  },
  {
   "cell_type": "markdown",
   "source": [
    "### 2.2 Composition of III-Vs\n",
    "#### 2.2.1 PL of III-Vs \n",
    "#### 2.2.2 Determination of Electronic Bandgap\n",
    "#### 2.2.3 Determination of Composition"
   ],
   "metadata": {}
  },
  {
   "cell_type": "markdown",
   "source": [
    "### 2.3 Radiative Efficiency of Copper Samples\n",
    "#### 2.3.1 PL of your samples\n",
    "#### 2.3.2 Compare Peak Areas\n",
    "#### 2.3.3 Theoretical Performance"
   ],
   "metadata": {}
  },
  {
   "cell_type": "markdown",
   "source": [
    "### 2.1.1 Import and Plot XRD data\n",
    "Our first step in analysis is to look at our data"
   ],
   "metadata": {}
  },
  {
   "cell_type": "code",
   "execution_count": 2,
   "source": [
    "#   We'll being by importing the required packages\n",
    "import pandas as pd #This is a package that is helpful when working with big data sets\n",
    "import numpy as np  #This is a package that is very helpful when working with arrays of numbers\n",
    "import matplotlib.pyplot as plt #We will use this for plotting.\n",
    "from scipy.optimize import curve_fit #This is a package we will use to fit our peaks to a specific function"
   ],
   "outputs": [],
   "metadata": {}
  },
  {
   "cell_type": "code",
   "execution_count": 6,
   "source": [
    "#   Now we'll import the data \n",
    "#   xrd_data will be a 2D array where the first column corresponds to two-theta values and the second\n",
    "#   column is diffracted intensity at a given temperature\n",
    "\n",
    "#TODO Update this code to open a file of interest, have each member of your team open a different file  \n",
    "xrd_data = np.array(pd.read_csv('Lab3/perov_302K.csv')) #This takes a csv, reads it in to python and then makes it a numpy array\n",
    "xrd_temp = '302K'\n",
    "\n",
    "#TODO Plot your XRD spectra \n",
    "plt.plot(xrd_data[:,0],xrd_data[:,1],'k')\n",
    "plt.xlabel('2Theta [$^\\circ$]')\n",
    "plt.ylabel('Intensity [a.u.]')"
   ],
   "outputs": [
    {
     "output_type": "execute_result",
     "data": {
      "text/plain": [
       "Text(0, 0.5, 'Intensity [a.u.]')"
      ]
     },
     "metadata": {},
     "execution_count": 6
    },
    {
     "output_type": "display_data",
     "data": {
      "image/png": "[encoded data removed]",
      "text/plain": [
       "<Figure size 432x288 with 1 Axes>"
      ]
     },
     "metadata": {
      "needs_background": "light"
     }
    }
   ],
   "metadata": {}
  },
  {
   "cell_type": "markdown",
   "source": [
    "Save your plot to your notesheet <font color='red'>(answer 1)"
   ],
   "metadata": {}
  },
  {
   "cell_type": "markdown",
   "source": [
    "### 2.1.2 Determine the Lattice Constant\n",
    "This perovskite has a cubic structure, meaning its crystal structure can be completely defined by one lattice constant and we can relate the d-spacing to the lattice constant using the following expression:\n",
    "\n",
    "$$ d = \\frac{a}{\\sqrt{h^2+k^2+l^2}} $$\n",
    "\n",
    "where $a$ is my lattice constant and $h$, $k$, and $l$ are my miller indices. Assuming the highest peak in my pattern corresponds to diffraction from the (100) plane of atoms, determine the lattice constant and check your answer by indexing the remaining peaks. \n",
    "\n",
    "\n",
    "Note: Like with all things in coding, this one way to approach this problem, not the only way"
   ],
   "metadata": {}
  },
  {
   "cell_type": "code",
   "execution_count": 9,
   "source": [
    "#   We'll again use some definitions to solve this problem\n",
    "#   Be sure you understand what these definitions do before you use them\n",
    "\n",
    "def find_nearest(array, value):\n",
    "    #array is a 1D vector\n",
    "    #value is the specific value for which want the index\n",
    "    array = np.asarray(array)\n",
    "    idx = (np.abs(array - value)).argmin()\n",
    "    return idx\n",
    "\n",
    "def trim_data(x, data, limit1, limit2):\n",
    "    #x is a 1D array of two theta\n",
    "    #data is an array of  intensities\n",
    "    #limit1 and limit2 are what you'd like to trim your data to \n",
    "    test = np.array(x)\n",
    "    set1 = find_nearest(test,limit1)\n",
    "    set2 = find_nearest(test,limit2)\n",
    "    return x[set1:set2], data[set1:set2]\n",
    "\n",
    "def findmax_inrange(x,data,limit1,limit2):\n",
    "    #x is a 1D array of two theta values\n",
    "    #data is an array of  intensities\n",
    "    #limit1 and limit2 are what you'd like to trim your data to \n",
    "    set1 = find_nearest(x,limit1)\n",
    "    set2 = find_nearest(x,limit2)\n",
    "    max_int = np.max(data[set1:set2])\n",
    "    max_theta = x[find_nearest(data,max_int)]\n",
    "    return max_theta, max_int\n",
    "\n",
    "def gaussian(x, a, b, c): \n",
    "    # this equation will make a gaussian peak profile with \n",
    "    # a = max intensity\n",
    "    # b = peak center\n",
    "    # 2sqrt(2ln2)*c = full width half max\n",
    "    return a*np.exp(-(x - b)**2/(2*c**2))\n",
    "\n",
    "def peak(x, a, b, c, d):\n",
    "    # assumes each peak is a quassian with some constant background\n",
    "    return a*np.exp(-(x - b)**2/(2*c**2)) + d"
   ],
   "outputs": [],
   "metadata": {}
  },
  {
   "cell_type": "code",
   "execution_count": 10,
   "source": [
    "#   We could approach this problem by finding the point of maximum intensity (similar to Lab 2)\n",
    "#   However, we'll get better results by fitting the peak and using that to determine its peak center\n",
    "#   To do this we'll use a new python package (scipy). If you'd like a reminder on how to use this package please \n",
    "#   check in with Lab 0\n",
    "\n",
    "\n",
    "#   Set domain of interest\n",
    "theta_limits = [9,10] #the energy range of interest in degrees\n",
    "\n",
    "#   Apply those limits \n",
    "fit_limit1 = find_nearest(xrd_data[:,0],theta_limits[0])\n",
    "fit_limit2 = find_nearest(xrd_data[:,0],theta_limits[1])\n",
    "\n",
    "#   Fit Peak\n",
    "p0 = [100, 9.5, .1, 10] #this is a best guess at your fit parameters following the above peak definition \n",
    "bestpeak, error = curve_fit(peak, xrd_data[fit_limit1:fit_limit2,0], xrd_data[fit_limit1:fit_limit2,1], p0) \n",
    "\n",
    "#   Plot data and fit to check in on what's happening\n",
    "plt.plot(xrd_data[fit_limit1:fit_limit2,0], xrd_data[fit_limit1:fit_limit2,1], 'k-') # plot data\n",
    "plt.plot(xrd_data[fit_limit1:fit_limit2,0], peak(xrd_data[fit_limit1:fit_limit2,0],*bestpeak), 'r--') # plot fit\n",
    "\n",
    "#   Your might need to update the above theta limits and initial guess (p0) to get a good fit for your data"
   ],
   "outputs": [
    {
     "output_type": "execute_result",
     "data": {
      "text/plain": [
       "[<matplotlib.lines.Line2D at 0x161e68340>]"
      ]
     },
     "metadata": {},
     "execution_count": 10
    },
    {
     "output_type": "display_data",
     "data": {
      "image/png": "[encoded data removed]",
      "text/plain": [
       "<Figure size 432x288 with 1 Axes>"
      ]
     },
     "metadata": {
      "needs_background": "light"
     }
    }
   ],
   "metadata": {}
  },
  {
   "cell_type": "code",
   "execution_count": 22,
   "source": [
    "#   Once you have a good fit for your peak you can apply our equation for d-spacing and\n",
    "#   Bragg's law to determine lattice constant\n",
    "\n",
    "wave = 0.982381 # Xray wavelength in units of Angstroms\n",
    "peak_center = bestpeak[1] # Call out the peak center from our best fit parameters\n",
    "\n",
    "#TODO Write code that takes the peak center and converts it into lattice constant\n",
    "def lattice_constant(twotheta,wave,miller):\n",
    "    return wave*np.sqrt(miller[0]**2+miller[1]**2+miller[2]**2)/(2*np.sin(twotheta/2*np.pi/180))\n",
    "\n",
    "lattice = lattice_constant(peak_center,wave,[1,0,0])\n",
    "print(lattice)\n",
    "\n",
    "#TODO Using your lattice constant and Bragg's law index the other peaks \n",
    "def guess_twotheta(lattice,wave,miller):\n",
    "    return 2*np.arcsin(wave*np.sqrt(miller[0]**2+miller[1]**2+miller[2]**2)/(2*lattice))*180/np.pi\n",
    "\n",
    "miller = [[1,0,0],[1,1,0],[1,1,1],[2,0,0],[2,1,0],[2,2,0],[3,0,0]]\n",
    "peak_guess = []\n",
    "intense_list = []\n",
    "for each in miller:\n",
    "    guess = guess_twotheta(lattice,wave,each)\n",
    "    intense = 100\n",
    "    peak_guess.append(guess)\n",
    "    intense_list.append(intense)\n",
    "\n",
    "print(peak_guess)\n",
    "plt.plot(xrd_data[:,0],xrd_data[:,1],'k')\n",
    "plt.plot(peak_guess, intense_list, 'ro')"
   ],
   "outputs": [
    {
     "output_type": "stream",
     "name": "stdout",
     "text": [
      "6.020283981028056\n",
      "[9.359844317097856, 13.251621336210228, 16.24809487730144, 18.782874036854395, 21.023728689087363, 26.684732099432825, 28.336220453542968]\n"
     ]
    },
    {
     "output_type": "execute_result",
     "data": {
      "text/plain": [
       "[<matplotlib.lines.Line2D at 0x162c5ce80>]"
      ]
     },
     "metadata": {},
     "execution_count": 22
    },
    {
     "output_type": "display_data",
     "data": {
      "image/png": "[encoded data removed]",
      "text/plain": [
       "<Figure size 432x288 with 1 Axes>"
      ]
     },
     "metadata": {
      "needs_background": "light"
     }
    }
   ],
   "metadata": {}
  },
  {
   "cell_type": "markdown",
   "source": [
    "Record your lattice constant and a picture of your indexed diffraction pattern in your notesheet <font color='red'>(answers 2-3)\n",
    "\n",
    "Note: do for first five peaks"
   ],
   "metadata": {}
  },
  {
   "cell_type": "markdown",
   "source": [
    "### 2.1.3 Determine Thermal Expansion Coeffient\n",
    "Working with your team repeat the above exercise (you can omit the indexing step after you've done it once) until you know the lattice constant of this perovskite at the five different temperatures provided. \n",
    "\n",
    "With this data set you can now determine thermal expansion coeffient. "
   ],
   "metadata": {}
  },
  {
   "cell_type": "code",
   "execution_count": 40,
   "source": [
    "perov_files = ['perov_302K.csv','perov_305K.csv','perov_311K.csv','perov_314K.csv','perov_317K.csv']\n",
    "temp = [302,305,311,314,317]\n",
    "lattices = []\n",
    "\n",
    "for each in perov_files:\n",
    "    xrd_data = np.array(pd.read_csv('Lab3/'+each)) #This takes a csv, reads it in to python and then makes it a numpy array\n",
    "    #   Set domain of interest\n",
    "    theta_limits = [9,10] #the energy range of interest in degrees\n",
    "\n",
    "    #   Apply those limits \n",
    "    fit_limit1 = find_nearest(xrd_data[:,0],theta_limits[0])\n",
    "    fit_limit2 = find_nearest(xrd_data[:,0],theta_limits[1])\n",
    "\n",
    "    #   Fit Peak\n",
    "    p0 = [100, 9.5, .1, 10] #this is a best guess at your fit parameters following the above peak definition \n",
    "    bestpeak, error = curve_fit(peak, xrd_data[fit_limit1:fit_limit2,0], xrd_data[fit_limit1:fit_limit2,1], p0) \n",
    "    peak_center = bestpeak[1]\n",
    "    #   Plot data and fit to check in on what's happening\n",
    "    plt.plot(xrd_data[fit_limit1:fit_limit2,0], xrd_data[fit_limit1:fit_limit2,1], 'k-') # plot data\n",
    "    plt.plot(xrd_data[fit_limit1:fit_limit2,0], peak(xrd_data[fit_limit1:fit_limit2,0],*bestpeak), 'r--') # plot fit\n",
    "\n",
    "    lattice = lattice_constant(peak_center,wave,[1,0,0])\n",
    "    lattices.append(lattice)\n"
   ],
   "outputs": [
    {
     "output_type": "display_data",
     "data": {
      "image/png": "[encoded data removed]",
      "text/plain": [
       "<Figure size 432x288 with 1 Axes>"
      ]
     },
     "metadata": {
      "needs_background": "light"
     }
    }
   ],
   "metadata": {}
  },
  {
   "cell_type": "code",
   "execution_count": 61,
   "source": [
    "#TODO Make a plot of lattice constant as a function of temperature\n",
    "plt.plot(temp,lattices,'ko--')\n",
    "plt.ylabel('Lattice Constant [$\\AA$]')\n",
    "plt.xlabel('Temperature [K]')\n",
    "plt.ylim(6.015,6.03)\n",
    "\n",
    "#TODO Write code that will fit that data to a line, and using that fit report the thermal expansion coefficient\n",
    "def line(x, m, b):\n",
    "    return m*x+b\n",
    "\n",
    "alpha,error = curve_fit(line,temp,np.array(lattices))\n",
    "plt.plot(np.array(temp),line(np.array(temp),*alpha),'r--')\n",
    "print(alpha[0])"
   ],
   "outputs": [
    {
     "output_type": "stream",
     "name": "stdout",
     "text": [
      "0.0003982452900611226\n"
     ]
    },
    {
     "output_type": "display_data",
     "data": {
      "image/png": "[encoded data removed]",
      "text/plain": [
       "<Figure size 432x288 with 1 Axes>"
      ]
     },
     "metadata": {
      "needs_background": "light"
     }
    }
   ],
   "metadata": {}
  },
  {
   "cell_type": "code",
   "execution_count": 53,
   "source": [
    "np.array(temp).shape"
   ],
   "outputs": [
    {
     "output_type": "execute_result",
     "data": {
      "text/plain": [
       "(5,)"
      ]
     },
     "metadata": {},
     "execution_count": 53
    }
   ],
   "metadata": {}
  },
  {
   "cell_type": "markdown",
   "source": [
    "Upload a copy of your graph and record your thermal expansion coefficient to your notebook <font color='red'>(answers 4-5)"
   ],
   "metadata": {}
  },
  {
   "cell_type": "markdown",
   "source": [
    "## 2.2 Quantifying Copper Oxide\n",
    "Now that we're familiar with XRD analysis, let's shift the focus to your samples.\n",
    "\n",
    "In this exercise you are going to compare the XRD data from your copper oxide samples to control samples (Cu, Cu2O, and CuO). Using the tools of XRD analysis you will quantify the composition of your films."
   ],
   "metadata": {}
  },
  {
   "cell_type": "markdown",
   "source": [
    "### 2.2.1 Learn how to Collect XRD Data of Your Samples\n",
    "Given the challenge of getting everyone to Olin and the time of an XRD experiment (each sample takes approximately 20 minutes to analyze), you all won't be running your own experiments this time. However, this instrument is available for you to use! To launch you into future XRD adventures please watch Becky's brief tutorial on how to use the Olin XRD."
   ],
   "metadata": {}
  },
  {
   "cell_type": "markdown",
   "source": [
    "### 2.2.1 Make a Comparitive XRD Plot  \n",
    "Adapt the above code to import and plot three XRD spectra: copper, copper(I) oxide, and copper(II) oxide. Using the copper oxide literature as a guide, index the diffraction peaks observed for these three samples. \n",
    "\n",
    "Upload your plot to your notesheet <font color='red'>(answer 6)"
   ],
   "metadata": {}
  },
  {
   "cell_type": "code",
   "execution_count": 66,
   "source": [
    "#   Import the data files\n",
    "xrd_cu = np.array(pd.read_csv('Lab3/copper.csv'))\n",
    "xrd_cuo = np.array(pd.read_csv('Lab3/cuo.csv'))\n",
    "xrd_cu2o=np.array(pd.read_csv('Lab3/cu2o.csv'))\n",
    "\n",
    "#TODO Make comparative XRD graph, you might find it helpful to normalize the data to the max intensity per sample\n",
    "plt.plot(xrd_cu[:,0],xrd_cu[:,1]/np.max(xrd_cu[:,1]),'k')\n",
    "plt.plot(xrd_cuo[:,0],xrd_cuo[:,1]/np.max(xrd_cuo[:,1]),'r')\n",
    "plt.plot(xrd_cu2o[:,0],xrd_cu2o[:,1]/np.max(xrd_cu2o[:,1]),'b')\n",
    "plt.ylabel('Normalize Intesntiy [a.u.]')\n",
    "plt.xlabel('2Theta [$^\\circ$]')"
   ],
   "outputs": [
    {
     "output_type": "execute_result",
     "data": {
      "text/plain": [
       "Text(0.5, 0, '2Theta [$^\\\\circ$]')"
      ]
     },
     "metadata": {},
     "execution_count": 66
    },
    {
     "output_type": "display_data",
     "data": {
      "image/png": "[encoded data removed]",
      "text/plain": [
       "<Figure size 432x288 with 1 Axes>"
      ]
     },
     "metadata": {
      "needs_background": "light"
     }
    }
   ],
   "metadata": {}
  },
  {
   "cell_type": "markdown",
   "source": [
    "missing markdown cell"
   ],
   "metadata": {}
  },
  {
   "cell_type": "code",
   "execution_count": 71,
   "source": [
    "#   To do this exercise you'll first have to determine characterstic angles\n",
    "#   for your three phases\n",
    "\n",
    "#   Find angles\n",
    "copper_theta = findmax_inrange(xrd_cu[:,0],xrd_cu[:,1],42,44) #copper_theta[0] will be characteristic theta\n",
    "cuo_theta = findmax_inrange(xrd_cuo[:,0],xrd_cuo[:,1],36,40)#TODO use our findmax_inrange to identify the two theta values for the copper oxides\n",
    "cu2o_theta = findmax_inrange(xrd_cu2o[:,0],xrd_cu2o[:,1],35,37)#TODO use our findmax_inrange to identify the two theta values for the copper oxides\n",
    "print(copper_theta,cuo_theta,cu2o_theta)\n",
    "#   With that set, you can import your data\n",
    "#TODO import and plot XRD of your samples\n",
    "\n",
    "#   And you can analyze your data\n",
    "#   To find the intensity near a charateristic angle I would again use the findmax_inrange function\n",
    "#   but this time I would have that range be very tight around my charateristic angle\n",
    "\n",
    "#copper_int = findmax_inrange(xrd_data[:,0],xrd_data[:,1],copper_theta-0.2,copper_theta+.2) #Looking for max intensity around the copper peak\n",
    "\n",
    "#   Finally, use those intensities to determine the relative amounts of copper, Cu2O, and CuO in your films\n",
    "#TODO Write a piece of code to determine the composition of your film"
   ],
   "outputs": [
    {
     "output_type": "stream",
     "name": "stdout",
     "text": [
      "(42.824381598793366, 311.6252339254788) (37.997549019607845, 2238.467583887943) (35.74335930953578, 5945.447118241238)\n"
     ]
    }
   ],
   "metadata": {}
  },
  {
   "cell_type": "markdown",
   "source": [
    "Working with your team, determine the composition of your three copper samples. Upload your XRD diffraction patterns and a plot of your compositions as a function of treatment to your notesheet  <font color='red'>(answers 7-8)"
   ],
   "metadata": {}
  },
  {
   "cell_type": "markdown",
   "source": [
    "## <font color='pink'>Upload a copy of your notesheet with answers 1 through 8 to the Google Drive"
   ],
   "metadata": {}
  },
  {
   "cell_type": "markdown",
   "source": [
    "# 3. Going Further\n",
    "The above exercises go over all of the required analysis for this lab, however there is a lot more we can learn from XRD data. If you are feeling adventurous consider doing this additional exercise."
   ],
   "metadata": {}
  },
  {
   "cell_type": "markdown",
   "source": [
    "## 3.1 Average Crystal Size\n",
    "We've looked position and intensity of our XRD peaks, now we can turn our attention to crystal size by looking at peak width.\n",
    "\n",
    "Peak width can tell us about the size and strain within our crystals. In particular, the Scherrer equation relates peak width to crystal size through the following:\n",
    "\n",
    "$$\\tau ={\\frac  {K\\lambda }{\\beta \\cos \\theta }}$$\n",
    "\n",
    "where $\\tau$ is the average crystallite size, $\\lambda$ is the X-ray wavelength (1.542 Å for the copper data), $\\beta$ is the peak broadening (full width at half maximum of a diffraction peak), $\\theta$ is the angle of diffraction, and $K$ is called the shape factor (~0.89).\n",
    "\n",
    "Using the peak fitting process described in exercise 1 and your copper oxide data, write a piece of code that determines the average crystallite size for your copper samples. If you have multiple of copper phases present in your sample, you can determine the average crystallite size for each of the phases."
   ],
   "metadata": {}
  },
  {
   "cell_type": "markdown",
   "source": [],
   "metadata": {}
  }
 ],
 "metadata": {
  "orig_nbformat": 4,
  "language_info": {
   "name": "python",
   "version": "3.9.6",
   "mimetype": "text/x-python",
   "codemirror_mode": {
    "name": "ipython",
    "version": 3
   },
   "pygments_lexer": "ipython3",
   "nbconvert_exporter": "python",
   "file_extension": ".py"
  },
  "kernelspec": {
   "name": "python3",
   "display_name": "Python 3.9.6 64-bit ('wellesolar': conda)"
  },
  "interpreter": {
   "hash": "4fcf9040caafb3fc409604f88f8d8c2cf0379ddbae61fc9f066f953a8c533633"
  }
 },
 "nbformat": 4,
 "nbformat_minor": 2
}